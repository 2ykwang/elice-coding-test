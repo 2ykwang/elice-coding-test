{
 "cells": [
  {
   "cell_type": "markdown",
   "metadata": {},
   "source": [
    "# 생태학\n",
    "\n",
    "## 문제\n",
    "생태학에서 나무의 분포도를 측정하는 것은 중요하다. 그러므로 당신은 미국 전역의 나무들이 주어졌을 때, 각 종이 전체에서 몇 %를 차지하는지 구하는 프로그램을 만들어야 한다.\n",
    "\n",
    "## 입력\n",
    "프로그램은 여러 줄로 이루어져 있으며, 한 줄에 하나의 나무 종 이름이 주어진다. 어떤 종 이름도 30글자를 넘지 않으며, 입력에는 최대 10,000개의 종이 주어지고 최대 1,000,000그루의 나무가 주어진다.\n",
    "\n",
    "## 출력\n",
    "주어진 각 종의 이름을 `사전순으로 출력`하고, 그 종이 차지하는 비율을 백분율로 `소수점 4째자리`까지 반올림해 함께 출력한다."
   ]
  },
  {
   "cell_type": "code",
   "execution_count": 89,
   "metadata": {},
   "outputs": [],
   "source": [
    "test_data = (   'a','b','c',\n",
    "                'a','b','c',\n",
    "                'aa','bb','c','c','c','c','c','c','c','c','c','c'    \n",
    "            )"
   ]
  },
  {
   "cell_type": "code",
   "execution_count": 90,
   "metadata": {},
   "outputs": [],
   "source": [
    "from collections import defaultdict\n",
    "\n",
    "# dictionary 키에 접근할 때 None 체크를 안하고 바로 사용 할 수 있다.\n",
    "# 타입을 명시해야하며 count 해야하니 타입은 int\n",
    "dic = defaultdict(int)\n",
    "\n",
    "for word in test_data:\n",
    "    dic[word] += 1\n",
    "\n",
    "# 언급된 나무 이름 기준으로 데이터를 내림차순 정렬한다.\n",
    "sorted_dic = sorted(dic.items(), key=lambda x: x[0])\n",
    "\n",
    "# 전체 나무 갯수\n",
    "tree_count = len(test_data)"
   ]
  },
  {
   "cell_type": "markdown",
   "metadata": {},
   "source": [
    "정렬된 데이터 딕셔너리"
   ]
  },
  {
   "cell_type": "code",
   "execution_count": 91,
   "metadata": {},
   "outputs": [
    {
     "data": {
      "text/plain": [
       "[('a', 2), ('aa', 1), ('b', 2), ('bb', 1), ('c', 12)]"
      ]
     },
     "execution_count": 91,
     "metadata": {},
     "output_type": "execute_result"
    }
   ],
   "source": [
    "sorted_dic"
   ]
  },
  {
   "cell_type": "code",
   "execution_count": 92,
   "metadata": {},
   "outputs": [
    {
     "data": {
      "text/plain": [
       "[('a', 0.1111111111111111),\n",
       " ('aa', 0.05555555555555555),\n",
       " ('b', 0.1111111111111111),\n",
       " ('bb', 0.05555555555555555),\n",
       " ('c', 0.6666666666666666)]"
      ]
     },
     "execution_count": 92,
     "metadata": {},
     "output_type": "execute_result"
    }
   ],
   "source": [
    "answer = [(item[0], item[1]/tree_count) for item in sorted_dic]\n",
    "answer"
   ]
  },
  {
   "cell_type": "code",
   "execution_count": 93,
   "metadata": {},
   "outputs": [
    {
     "name": "stdout",
     "output_type": "stream",
     "text": [
      "a 11.1111\n",
      "aa 5.5556\n",
      "b 11.1111\n",
      "bb 5.5556\n",
      "c 66.6667\n"
     ]
    }
   ],
   "source": [
    "for item in answer:\n",
    "    print(f\"{item[0]} {item[1]*100:.4f}\")"
   ]
  }
 ],
 "metadata": {
  "interpreter": {
   "hash": "68a2181faa98eff8d0c4c2283021624fde0251d98236c42539965642be629b5c"
  },
  "kernelspec": {
   "display_name": "Python 3.9.5 64-bit ('.venv': venv)",
   "name": "python3"
  },
  "language_info": {
   "codemirror_mode": {
    "name": "ipython",
    "version": 3
   },
   "file_extension": ".py",
   "mimetype": "text/x-python",
   "name": "python",
   "nbconvert_exporter": "python",
   "pygments_lexer": "ipython3",
   "version": "3.9.5"
  },
  "orig_nbformat": 4
 },
 "nbformat": 4,
 "nbformat_minor": 2
}
