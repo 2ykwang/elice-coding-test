{
 "cells": [
  {
   "cell_type": "markdown",
   "metadata": {},
   "source": [
    "# N번째 큰 수\n",
    "\n",
    "## 문제\n",
    "N×N의 표에 수 N2개 채워져 있다. 채워진 수에는 한 가지 특징이 있는데, 모든 수는 자신의 한 칸 위에 있는 수보다 크다는 것이다. N=5일 때의 예를 보자.\n",
    "\n",
    "```\n",
    "12\t7\t9\t15\t5\n",
    "13\t8\t11\t19\t6\n",
    "21\t10\t26\t31\t16\n",
    "48\t14\t28\t35\t25\n",
    "52\t20\t32\t41\t49\n",
    "```\n",
    "이러한 표가 주어졌을 때, N번째 큰 수를 찾는 프로그램을 작성하시오. 표에 채워진 수는 모두 다르다.\n",
    "\n",
    "## 입력\n",
    "첫째 줄에 N(1 ≤ N ≤ 1,500)이 주어진다. 다음 N개의 줄에는 각 줄마다 N개의 수가 주어진다. 표에 적힌 수는 -10억보다 크거나 같고, 10억보다 작거나 같은 정수이다.\n",
    "\n",
    "## 출력\n",
    "첫째 줄에 N번째 큰 수를 출력한다."
   ]
  },
  {
   "cell_type": "markdown",
   "metadata": {},
   "source": [
    "## 풀이코드\n",
    "\n",
    "### 우선순위 큐(PriorityQueue)로 구현"
   ]
  },
  {
   "cell_type": "code",
   "execution_count": 196,
   "metadata": {},
   "outputs": [],
   "source": [
    "from queue import PriorityQueue\n",
    "\n",
    "\n",
    "def solution(n, matrix: list(list())) -> int:\n",
    "    q = PriorityQueue()\n",
    "\n",
    "    for i in range(n):\n",
    "        for num in matrix[i]:\n",
    "            # 우선순위 큐->q\n",
    "            # 각각의 cell value - > num\n",
    "\n",
    "            # q 사이즈가 n 보다 작다면 num을 q에 push한다.\n",
    "            if len(q.queue) < n:\n",
    "                q.put(num)\n",
    "\n",
    "            # num 값이 q의 top 값보다 크다면 num 값을 push한 동시에 pop 한다.\n",
    "            elif q.queue[0] < num:\n",
    "                q.put(num)\n",
    "                q.get()\n",
    "\n",
    "    # 루프가 종료되면 q는 n개의 원소를 가지고 있고 우선순위 큐 알고리즘에 따라\n",
    "    # top이 가리키는 수는 n번째큰 수가 된다.\n",
    "    return q.get()\n"
   ]
  },
  {
   "cell_type": "markdown",
   "metadata": {},
   "source": [
    "### heapq 모듈 사용한 코드 \n",
    "\n",
    "heapq 모듈을 사용한 코드가 처리속도가 좀 더 빨랐다. 찾아보니 Priority Queue 클래스는 내부적으로 heapq 모듈을 사용한다고 한다.\n",
    "`Thread-Safe` 하다고 한다. [참고](https://docs.python.org/ko/3.9/library/queue.html?highlight=priorityqueue)\n",
    "\n",
    "```python\n",
    "import sys\n",
    "import heapq\n",
    "\n",
    "\n",
    "def input(): return sys.stdin.readline().rstrip()\n",
    "\n",
    "n = int(input())\n",
    "\n",
    "q = []\n",
    "\n",
    "for _ in range(n):\n",
    "    for num in list(map(int,input().split())):  \n",
    "        if len(q) < n:\n",
    "            heapq.heappush(q, num)\n",
    "        elif q[0] < num:\n",
    "            heapq.heappush(q, num)\n",
    "            heapq.heappop(q)\n",
    "        \n",
    "print(heapq.heappop(q))\n",
    "```"
   ]
  },
  {
   "cell_type": "markdown",
   "metadata": {},
   "source": [
    "### 테스트 케이스"
   ]
  },
  {
   "cell_type": "code",
   "execution_count": 197,
   "metadata": {},
   "outputs": [
    {
     "name": "stdout",
     "output_type": "stream",
     "text": [
      "Test #1: answer - 9 \texpected - 9 \t( True )\n",
      "Test #2: answer - 22 \texpected - 22 \t( True )\n",
      "Test #3: answer - 9 \texpected - 9 \t( True )\n",
      "Test #4: answer - 7 \texpected - 7 \t( True )\n",
      "Test #5: answer - 5 \texpected - 5 \t( True )\n"
     ]
    }
   ],
   "source": [
    "def test_case1() -> dict:\n",
    "    N = 3\n",
    "    EXPECTED = 9\n",
    "    return {'n': N, 'matrix':\n",
    "            [[1, 2, 3],\n",
    "                [5, 4, 6],\n",
    "                [9, 12, 11]], 'expected': EXPECTED}\n",
    "\n",
    "def test_case2() -> dict:\n",
    "    N = 4\n",
    "    EXPECTED = 22\n",
    "    return {'n': N, 'matrix':\n",
    "            [[5, 13, 1, 11],\n",
    "                [7, 19, 4, 17],\n",
    "                [9, 22, 16, 26],\n",
    "                [15, 24, 18, 30]], 'expected': EXPECTED}\n",
    "\n",
    "def test_case3() -> dict:\n",
    "    N = 3\n",
    "    EXPECTED = 9\n",
    "    return {'n': N, 'matrix':\n",
    "            [[1, 2, 3],\n",
    "                [5, 4, 6],\n",
    "                [9, 12, 11]], 'expected': EXPECTED}\n",
    "\n",
    "def test_case4() -> dict:\n",
    "    N = 3\n",
    "    EXPECTED = 7\n",
    "    return {'n': N, 'matrix':\n",
    "            [[1, 4, 7],\n",
    "                [2, 5, 8],\n",
    "                [3, 6, 9]], 'expected': EXPECTED}\n",
    "\n",
    "def test_case5() -> dict:\n",
    "    N = 3\n",
    "    EXPECTED = 5\n",
    "    return {'n': N, 'matrix':\n",
    "            [[-1, -2, -3],\n",
    "                [1, 2, 3],\n",
    "                [7, 6, 5]], 'expected': EXPECTED}\n",
    "\n",
    "test_cases = [test_case1(), test_case2(), test_case3(),\n",
    "                test_case4(), test_case5()]\n",
    "\n",
    "for idx, test in enumerate(test_cases):\n",
    "    answer = solution(test['n'], test['matrix'])\n",
    "    print(\n",
    "        f\"Test #{idx+1}: answer - {answer} \\texpected - {test['expected']} \\t( {test['expected'] == answer} )\")\n"
   ]
  },
  {
   "cell_type": "markdown",
   "metadata": {},
   "source": [
    "## 참조\n",
    "\n",
    "[자료구조 - 우선순위 큐(Priority Queue)와 힙(heap)](https://chanhuiseok.github.io/posts/ds-4/)\n",
    "\n",
    "[[Python] 힙 자료구조 / 힙큐(heapq) / 파이썬에서 heapq 모듈 사용하기](https://littlefoxdiary.tistory.com/3)\n",
    "\n"
   ]
  }
 ],
 "metadata": {
  "interpreter": {
   "hash": "d24d08b32e2d07b34a3dc8ad532027a86b94719c6f81db05840878dc00e556c7"
  },
  "kernelspec": {
   "display_name": "Python 3.8.10 64-bit ('venv': venv)",
   "name": "python3"
  },
  "language_info": {
   "codemirror_mode": {
    "name": "ipython",
    "version": 3
   },
   "file_extension": ".py",
   "mimetype": "text/x-python",
   "name": "python",
   "nbconvert_exporter": "python",
   "pygments_lexer": "ipython3",
   "version": "3.8.10"
  },
  "orig_nbformat": 4
 },
 "nbformat": 4,
 "nbformat_minor": 2
}
